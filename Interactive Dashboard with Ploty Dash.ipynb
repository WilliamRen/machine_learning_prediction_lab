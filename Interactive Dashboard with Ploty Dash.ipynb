{
    "cells": [
        {
            "cell_type": "markdown",
            "metadata": {
                "collapsed": true
            },
            "source": "!pip install pandas dash"
        },
        {
            "cell_type": "markdown",
            "metadata": {},
            "source": "!wget \"https://cf-courses-data.s3.us.cloud-object-storage.appdomain.cloud/IBM-DS0321EN-SkillsNetwork/datasets/spacex_launch_dash.csv\""
        },
        {
            "cell_type": "markdown",
            "metadata": {},
            "source": "!wget \"https://cf-courses-data.s3.us.cloud-object-storage.appdomain.cloud/IBM-DS0321EN-SkillsNetwork/labs/module_3/spacex_dash_app.py\""
        },
        {
            "cell_type": "code",
            "execution_count": 1,
            "metadata": {},
            "outputs": [
                {
                    "name": "stderr",
                    "output_type": "stream",
                    "text": "<ipython-input-1-ae485460f4c4>:4: UserWarning: \nThe dash_html_components package is deprecated. Please replace\n`import dash_html_components as html` with `from dash import html`\n  import dash_html_components as html\n<ipython-input-1-ae485460f4c4>:5: UserWarning: \nThe dash_core_components package is deprecated. Please replace\n`import dash_core_components as dcc` with `from dash import dcc`\n  import dash_core_components as dcc\n"
                }
            ],
            "source": "# Import required libraries\nimport pandas as pd\nimport dash\nimport dash_html_components as html\nimport dash_core_components as dcc\nfrom dash.dependencies import Input, Output\nimport plotly.express as px\n\n# Read the airline data into pandas dataframe\nspacex_df = pd.read_csv(\"spacex_launch_dash.csv\")\nmax_payload = spacex_df['Payload Mass (kg)'].max()\nmin_payload = spacex_df['Payload Mass (kg)'].min()\n\n# Create a dash application\napp = dash.Dash(__name__)\n\n\nlaunch_sites = [{'label': site, 'value': site} for site in spacex_df['Launch Site'].unique().tolist()]\nlaunch_sites.insert(0, {'label': 'All Sites', 'value': 'All Sites'})\n\n# Create an app layout\napp.layout = html.Div(children=[html.H1('SpaceX Launch Records Dashboard',\n                                        style={'textAlign': 'center', 'color': '#503D36',\n                                               'font-size': 40}),\n                                # TASK 1: Add a dropdown list to enable Launch Site selection\n                                # The default select value is for ALL sites\n                                # dcc.Dropdown(id='site-dropdown',...)\n                                dcc.Dropdown(id='site_dropdown', options=launch_sites, placeholder='Select a Launch Site here', searchable=True , value='All Sites'),\n                                html.Br(),\n\n                                # TASK 2: Add a pie chart to show the total successful launches count for all sites\n                                # If a specific launch site was selected, show the Success vs. Failed counts for the site\n                                html.Div(dcc.Graph(id='success-pie-chart')),\n                                html.Br(),\n\n                                html.P(\"Payload range (Kg):\"),\n                                # TASK 3: Add a slider to select payload range\n                                #dcc.RangeSlider(id='payload-slider',...)\n                                dcc.RangeSlider(\n                                    id='payload_slider',\n                                    min=0,\n                                    max=10000,\n                                    step=1000,\n                                    marks = {\n                                            0: '0 kg',\n                                            1000: '1000 kg',\n                                            2000: '2000 kg',\n                                            3000: '3000 kg',\n                                            4000: '4000 kg',\n                                            5000: '5000 kg',\n                                            6000: '6000 kg',\n                                            7000: '7000 kg',\n                                            8000: '8000 kg',\n                                            9000: '9000 kg',\n                                            10000: '10000 kg'\n                                    },\n                                    value=[min_payload, max_payload]\n                                ),\n\n                                # TASK 4: Add a scatter chart to show the correlation between payload and launch success\n                                html.Div(dcc.Graph(id='success-payload-scatter-chart')),\n                                ])\n\n# TASK 2:\n# Add a callback function for `site-dropdown` as input, `success-pie-chart` as output\n@app.callback(\n     Output(component_id='success-pie-chart', component_property='figure'),\n     [Input(component_id='site_dropdown', component_property='value')]\n)\ndef update_pie_chart_by_sie_dropdown(site_dropdown):\n    if (site_dropdown == 'All Sites'):\n        df  = spacex_df[spacex_df['class'] == 1]\n        fig = px.pie(df, names='Launch Site', hole=.3, title='Total Success Launches By all sites')\n    else:\n        df  = spacex_df.loc[spacex_df['Launch Site'] == site_dropdown]\n        fig = px.pie(df, names='class',hole=.3, title='Total Success Launches for site '+site_dropdown)\n    return fig\n\n# TASK 4:\n# Add a callback function for `site-dropdown` and `payload-slider` as inputs, `success-payload-scatter-chart` as output\n@app.callback(\n     Output(component_id='success-payload-scatter-chart', component_property='figure'),\n     [Input(component_id='site_dropdown', component_property='value'), Input(component_id=\"payload_slider\", component_property=\"value\")]\n)\ndef update_scatter_chart_by_dropdown_and_playlooad_silder(site_dropdown, payload_slider):\n    if site_dropdown == 'All Sites':\n        low, high = payload_slider\n        df  = spacex_df\n        mask = (df['Payload Mass (kg)'] > low) & (df['Payload Mass (kg)'] < high)\n        fig = px.scatter(\n            df[mask], x=\"Payload Mass (kg)\", y=\"class\",\n            color=\"Booster Version\",\n            size='Payload Mass (kg)',\n            hover_data=['Payload Mass (kg)'])\n    else:\n        low, high = payload_slider\n        df  = spacex_df.loc[spacex_df['Launch Site'] == site_dropdown]\n        mask = (df['Payload Mass (kg)'] > low) & (df['Payload Mass (kg)'] < high)\n        fig = px.scatter(\n            df[mask], x=\"Payload Mass (kg)\", y=\"class\",\n            color=\"Booster Version\",\n            size='Payload Mass (kg)',\n            hover_data=['Payload Mass (kg)'])\n    return fig\n\n# # Run the app\n# if __name__ == '__main__':\n#     app.run_server()\n"
        },
        {
            "cell_type": "code",
            "execution_count": 2,
            "metadata": {},
            "outputs": [],
            "source": "# python3 spacex_dash_app.py"
        },
        {
            "cell_type": "markdown",
            "metadata": {},
            "source": "### Callback function\n\n\n* Refer to these Example Code Snippets about callback function\n* https://cf-courses-data.s3.us.cloud-object-storage.appdomain.cloud/IBMDeveloperSkillsNetwork-DV0101EN-SkillsNetwork/labs/Module%204/4.7_Dash_Interactivity.py\n\n\n### Pie chart (output) component\n\n\n* Refer here for more details about plotly pie charts\n* https://plotly.com/python/pie-charts/?utm_medium=Exinfluencer&utm_source=Exinfluencer&utm_content=000026UJ&utm_term=10006555&utm_id=NA-SkillsNetwork-Channel-SkillsNetworkCoursesIBMDS0321ENSkillsNetwork26802033-2021-01-01\n\n\n### Scatter chart (output) component\n\n\n* Refer here for more details about plotly scatter charts\n* https://plotly.com/python/line-and-scatter/?utm_medium=Exinfluencer&utm_source=Exinfluencer&utm_content=000026UJ&utm_term=10006555&utm_id=NA-SkillsNetwork-Channel-SkillsNetworkCoursesIBMDS0321ENSkillsNetwork26802033-2021-01-01\n"
        },
        {
            "cell_type": "markdown",
            "metadata": {},
            "source": "### Example Code Snippets "
        },
        {
            "cell_type": "markdown",
            "metadata": {},
            "source": "```\n# Import required libraries\nimport pandas as pd\nimport plotly.graph_objects as go\nimport dash\nimport dash_html_components as html\nimport dash_core_components as dcc\nfrom dash.dependencies import Input, Output\n\n# Read the airline data into pandas dataframe\nairline_data =  pd.read_csv('https://cf-courses-data.s3.us.cloud-object-storage.appdomain.cloud/IBMDeveloperSkillsNetwork-DV0101EN-SkillsNetwork/Data%20Files/airline_data.csv', \n                            encoding = \"ISO-8859-1\",\n                            dtype={'Div1Airport': str, 'Div1TailNum': str, \n                                   'Div2Airport': str, 'Div2TailNum': str})\n# Create a dash application\napp = dash.Dash(__name__)\n                               \napp.layout = html.Div(children=[ html.H1('Airline Performance Dashboard', \n                                style={'textAlign': 'center', 'color': '#503D36',\n                                'font-size': 40}),\n                                html.Div([\"Input Year: \", dcc.Input(id='input-year', value='2010', \n                                type='number', style={'height':'50px', 'font-size': 35}),], \n                                style={'font-size': 40}),\n                                html.Br(),\n                                html.Br(),\n                                html.Div(dcc.Graph(id='line-plot')),\n                                ])\n\n# add callback decorator\n@app.callback( Output(component_id='line-plot', component_property='figure'),\n               Input(component_id='input-year', component_property='value'))\n\n# Add computation to callback function and return graph\ndef get_graph(entered_year):\n    # Select 2019 data\n    df =  airline_data[airline_data['Year']==int(entered_year)]\n    \n    # Group the data by Month and compute average over arrival delay time.\n    line_data = df.groupby('Month')['ArrDelay'].mean().reset_index()\n\n    fig = go.Figure(data=go.Scatter(x=line_data['Month'], y=line_data['ArrDelay'], mode='lines', marker=dict(color='green')))\n    fig.update_layout(title='Month vs Average Flight Delay Time', xaxis_title='Month', yaxis_title='ArrDelay')\n    return fig\n\n# Run the app\nif __name__ == '__main__':\n    app.run_server()\n```"
        },
        {
            "cell_type": "code",
            "execution_count": null,
            "metadata": {},
            "outputs": [],
            "source": ""
        }
    ],
    "metadata": {
        "kernelspec": {
            "display_name": "Python 3.8",
            "language": "python",
            "name": "python3"
        },
        "language_info": {
            "codemirror_mode": {
                "name": "ipython",
                "version": 3
            },
            "file_extension": ".py",
            "mimetype": "text/x-python",
            "name": "python",
            "nbconvert_exporter": "python",
            "pygments_lexer": "ipython3",
            "version": "3.8.11"
        }
    },
    "nbformat": 4,
    "nbformat_minor": 1
}